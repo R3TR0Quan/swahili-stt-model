{
 "cells": [
  {
   "cell_type": "markdown",
   "metadata": {},
   "source": [
    "# Africas Talking-Mozilla Common Voice Hackathon"
   ]
  },
  {
   "cell_type": "markdown",
   "metadata": {},
   "source": [
    "This is the main notebook used in model development. For experimentation use notebooks in the `misc_notebooks` folder"
   ]
  },
  {
   "cell_type": "markdown",
   "metadata": {},
   "source": [
    "## Data Loading"
   ]
  },
  {
   "cell_type": "code",
   "execution_count": 5,
   "metadata": {},
   "outputs": [],
   "source": [
    "# importations\n",
    "import pandas as pd\n",
    "import numpy as np\n"
   ]
  },
  {
   "cell_type": "code",
   "execution_count": 6,
   "metadata": {},
   "outputs": [],
   "source": [
    "# read `tsv` files\n",
    "test_df = pd.read_csv('sw/test.tsv', delimiter='\\t')\n",
    "train_df = pd.read_csv('sw/train.tsv', delimiter='\\t')\n",
    "# reported_df = pd.read_csv('sw/reported.tsv', engine='c', delimiter='\\t') # causing EOF error in reading, possibly corrupt or inconsistent\n",
    "# others_df = pd.read_csv('sw/other.tsv', delimiter='\\t') # causing EOF error in reading, possibly corrupt or inconsistent\n",
    "invalidated_df = pd.read_csv('sw/invalidated.tsv', delimiter='\\t')\n",
    "dev_df = pd.read_csv('sw/dev.tsv', delimiter='\\t')\n",
    "durations_df = pd.read_csv('sw/clip_durations.tsv', delimiter='\\t')"
   ]
  },
  {
   "cell_type": "markdown",
   "metadata": {},
   "source": [
    "Let's inspect some of these DataFrames to get our bearing"
   ]
  },
  {
   "cell_type": "code",
   "execution_count": 7,
   "metadata": {},
   "outputs": [
    {
     "data": {
      "text/html": [
       "<div>\n",
       "<style scoped>\n",
       "    .dataframe tbody tr th:only-of-type {\n",
       "        vertical-align: middle;\n",
       "    }\n",
       "\n",
       "    .dataframe tbody tr th {\n",
       "        vertical-align: top;\n",
       "    }\n",
       "\n",
       "    .dataframe thead th {\n",
       "        text-align: right;\n",
       "    }\n",
       "</style>\n",
       "<table border=\"1\" class=\"dataframe\">\n",
       "  <thead>\n",
       "    <tr style=\"text-align: right;\">\n",
       "      <th></th>\n",
       "      <th>client_id</th>\n",
       "      <th>path</th>\n",
       "      <th>sentence</th>\n",
       "      <th>up_votes</th>\n",
       "      <th>down_votes</th>\n",
       "      <th>age</th>\n",
       "      <th>gender</th>\n",
       "      <th>accents</th>\n",
       "      <th>variant</th>\n",
       "      <th>locale</th>\n",
       "      <th>segment</th>\n",
       "    </tr>\n",
       "  </thead>\n",
       "  <tbody>\n",
       "    <tr>\n",
       "      <th>0</th>\n",
       "      <td>70c2b9896ca6150002ef6e888a3f7788e49e61aef85ec8...</td>\n",
       "      <td>common_voice_sw_37083656.mp3</td>\n",
       "      <td>yeyote yule atakaepatikana akiandamana katika ...</td>\n",
       "      <td>2</td>\n",
       "      <td>0</td>\n",
       "      <td>twenties</td>\n",
       "      <td>female</td>\n",
       "      <td>NaN</td>\n",
       "      <td>NaN</td>\n",
       "      <td>sw</td>\n",
       "      <td>NaN</td>\n",
       "    </tr>\n",
       "    <tr>\n",
       "      <th>1</th>\n",
       "      <td>70c2b9896ca6150002ef6e888a3f7788e49e61aef85ec8...</td>\n",
       "      <td>common_voice_sw_37085166.mp3</td>\n",
       "      <td>kwa ujumla kwenye kwenye sehemu za wilaya ama ...</td>\n",
       "      <td>3</td>\n",
       "      <td>1</td>\n",
       "      <td>twenties</td>\n",
       "      <td>female</td>\n",
       "      <td>NaN</td>\n",
       "      <td>NaN</td>\n",
       "      <td>sw</td>\n",
       "      <td>NaN</td>\n",
       "    </tr>\n",
       "    <tr>\n",
       "      <th>2</th>\n",
       "      <td>70c2b9896ca6150002ef6e888a3f7788e49e61aef85ec8...</td>\n",
       "      <td>common_voice_sw_37085182.mp3</td>\n",
       "      <td>Hawai ni kuzuri</td>\n",
       "      <td>2</td>\n",
       "      <td>0</td>\n",
       "      <td>twenties</td>\n",
       "      <td>female</td>\n",
       "      <td>NaN</td>\n",
       "      <td>NaN</td>\n",
       "      <td>sw</td>\n",
       "      <td>NaN</td>\n",
       "    </tr>\n",
       "    <tr>\n",
       "      <th>3</th>\n",
       "      <td>70c2b9896ca6150002ef6e888a3f7788e49e61aef85ec8...</td>\n",
       "      <td>common_voice_sw_37085525.mp3</td>\n",
       "      <td>na kuhatarisha mifumo mizima ya uhai katika se...</td>\n",
       "      <td>13</td>\n",
       "      <td>3</td>\n",
       "      <td>twenties</td>\n",
       "      <td>female</td>\n",
       "      <td>NaN</td>\n",
       "      <td>NaN</td>\n",
       "      <td>sw</td>\n",
       "      <td>NaN</td>\n",
       "    </tr>\n",
       "    <tr>\n",
       "      <th>4</th>\n",
       "      <td>70c2b9896ca6150002ef6e888a3f7788e49e61aef85ec8...</td>\n",
       "      <td>common_voice_sw_37085535.mp3</td>\n",
       "      <td>kundi zima lililosababisha mauaji lilitakiwa k...</td>\n",
       "      <td>2</td>\n",
       "      <td>1</td>\n",
       "      <td>twenties</td>\n",
       "      <td>female</td>\n",
       "      <td>NaN</td>\n",
       "      <td>NaN</td>\n",
       "      <td>sw</td>\n",
       "      <td>NaN</td>\n",
       "    </tr>\n",
       "  </tbody>\n",
       "</table>\n",
       "</div>"
      ],
      "text/plain": [
       "                                           client_id  \\\n",
       "0  70c2b9896ca6150002ef6e888a3f7788e49e61aef85ec8...   \n",
       "1  70c2b9896ca6150002ef6e888a3f7788e49e61aef85ec8...   \n",
       "2  70c2b9896ca6150002ef6e888a3f7788e49e61aef85ec8...   \n",
       "3  70c2b9896ca6150002ef6e888a3f7788e49e61aef85ec8...   \n",
       "4  70c2b9896ca6150002ef6e888a3f7788e49e61aef85ec8...   \n",
       "\n",
       "                           path  \\\n",
       "0  common_voice_sw_37083656.mp3   \n",
       "1  common_voice_sw_37085166.mp3   \n",
       "2  common_voice_sw_37085182.mp3   \n",
       "3  common_voice_sw_37085525.mp3   \n",
       "4  common_voice_sw_37085535.mp3   \n",
       "\n",
       "                                            sentence  up_votes  down_votes  \\\n",
       "0  yeyote yule atakaepatikana akiandamana katika ...         2           0   \n",
       "1  kwa ujumla kwenye kwenye sehemu za wilaya ama ...         3           1   \n",
       "2                                    Hawai ni kuzuri         2           0   \n",
       "3  na kuhatarisha mifumo mizima ya uhai katika se...        13           3   \n",
       "4  kundi zima lililosababisha mauaji lilitakiwa k...         2           1   \n",
       "\n",
       "        age  gender accents variant locale  segment  \n",
       "0  twenties  female     NaN     NaN     sw      NaN  \n",
       "1  twenties  female     NaN     NaN     sw      NaN  \n",
       "2  twenties  female     NaN     NaN     sw      NaN  \n",
       "3  twenties  female     NaN     NaN     sw      NaN  \n",
       "4  twenties  female     NaN     NaN     sw      NaN  "
      ]
     },
     "execution_count": 7,
     "metadata": {},
     "output_type": "execute_result"
    }
   ],
   "source": [
    "#train_df\n",
    "train_df.head()"
   ]
  },
  {
   "cell_type": "code",
   "execution_count": 9,
   "metadata": {},
   "outputs": [
    {
     "data": {
      "text/html": [
       "<div>\n",
       "<style scoped>\n",
       "    .dataframe tbody tr th:only-of-type {\n",
       "        vertical-align: middle;\n",
       "    }\n",
       "\n",
       "    .dataframe tbody tr th {\n",
       "        vertical-align: top;\n",
       "    }\n",
       "\n",
       "    .dataframe thead th {\n",
       "        text-align: right;\n",
       "    }\n",
       "</style>\n",
       "<table border=\"1\" class=\"dataframe\">\n",
       "  <thead>\n",
       "    <tr style=\"text-align: right;\">\n",
       "      <th></th>\n",
       "      <th>client_id</th>\n",
       "      <th>path</th>\n",
       "      <th>sentence</th>\n",
       "      <th>up_votes</th>\n",
       "      <th>down_votes</th>\n",
       "      <th>age</th>\n",
       "      <th>gender</th>\n",
       "      <th>accents</th>\n",
       "      <th>variant</th>\n",
       "      <th>locale</th>\n",
       "      <th>segment</th>\n",
       "    </tr>\n",
       "  </thead>\n",
       "  <tbody>\n",
       "    <tr>\n",
       "      <th>0</th>\n",
       "      <td>011544b78c18417a5869b8e70ebc7675c7eb3b517754b8...</td>\n",
       "      <td>common_voice_sw_37190902.mp3</td>\n",
       "      <td>Tuma pesa sahii.</td>\n",
       "      <td>2</td>\n",
       "      <td>0</td>\n",
       "      <td>NaN</td>\n",
       "      <td>NaN</td>\n",
       "      <td>NaN</td>\n",
       "      <td>NaN</td>\n",
       "      <td>sw</td>\n",
       "      <td>NaN</td>\n",
       "    </tr>\n",
       "    <tr>\n",
       "      <th>1</th>\n",
       "      <td>0133d8ddf5c1a3c678fde017e0b07d2835bfd707d5b3ec...</td>\n",
       "      <td>common_voice_sw_31428161.mp3</td>\n",
       "      <td>wachambuzi wa soka wanamtaja Messi kama nyota ...</td>\n",
       "      <td>2</td>\n",
       "      <td>0</td>\n",
       "      <td>twenties</td>\n",
       "      <td>female</td>\n",
       "      <td>NaN</td>\n",
       "      <td>NaN</td>\n",
       "      <td>sw</td>\n",
       "      <td>NaN</td>\n",
       "    </tr>\n",
       "    <tr>\n",
       "      <th>2</th>\n",
       "      <td>01c95772efd3fbe4a1122206c7474c77ed6591c8c9fb00...</td>\n",
       "      <td>common_voice_sw_30317714.mp3</td>\n",
       "      <td>romario aliingia kwenye orodha ya wachezaji wa...</td>\n",
       "      <td>2</td>\n",
       "      <td>1</td>\n",
       "      <td>NaN</td>\n",
       "      <td>NaN</td>\n",
       "      <td>NaN</td>\n",
       "      <td>NaN</td>\n",
       "      <td>sw</td>\n",
       "      <td>NaN</td>\n",
       "    </tr>\n",
       "    <tr>\n",
       "      <th>3</th>\n",
       "      <td>023711185d4404ff398c2697f2e72868d1ecf69a92b581...</td>\n",
       "      <td>common_voice_sw_32116997.mp3</td>\n",
       "      <td>Sote twesangaa twelipomuona mwalimu Ali apika</td>\n",
       "      <td>2</td>\n",
       "      <td>1</td>\n",
       "      <td>twenties</td>\n",
       "      <td>male</td>\n",
       "      <td>NaN</td>\n",
       "      <td>NaN</td>\n",
       "      <td>sw</td>\n",
       "      <td>NaN</td>\n",
       "    </tr>\n",
       "    <tr>\n",
       "      <th>4</th>\n",
       "      <td>0244639ffd7ec755a01b21ea204735ca3c44443e9cf46c...</td>\n",
       "      <td>common_voice_sw_29002392.mp3</td>\n",
       "      <td>Inajulikana kama shina la Warangi.</td>\n",
       "      <td>2</td>\n",
       "      <td>0</td>\n",
       "      <td>NaN</td>\n",
       "      <td>NaN</td>\n",
       "      <td>NaN</td>\n",
       "      <td>NaN</td>\n",
       "      <td>sw</td>\n",
       "      <td>NaN</td>\n",
       "    </tr>\n",
       "  </tbody>\n",
       "</table>\n",
       "</div>"
      ],
      "text/plain": [
       "                                           client_id  \\\n",
       "0  011544b78c18417a5869b8e70ebc7675c7eb3b517754b8...   \n",
       "1  0133d8ddf5c1a3c678fde017e0b07d2835bfd707d5b3ec...   \n",
       "2  01c95772efd3fbe4a1122206c7474c77ed6591c8c9fb00...   \n",
       "3  023711185d4404ff398c2697f2e72868d1ecf69a92b581...   \n",
       "4  0244639ffd7ec755a01b21ea204735ca3c44443e9cf46c...   \n",
       "\n",
       "                           path  \\\n",
       "0  common_voice_sw_37190902.mp3   \n",
       "1  common_voice_sw_31428161.mp3   \n",
       "2  common_voice_sw_30317714.mp3   \n",
       "3  common_voice_sw_32116997.mp3   \n",
       "4  common_voice_sw_29002392.mp3   \n",
       "\n",
       "                                            sentence  up_votes  down_votes  \\\n",
       "0                                   Tuma pesa sahii.         2           0   \n",
       "1  wachambuzi wa soka wanamtaja Messi kama nyota ...         2           0   \n",
       "2  romario aliingia kwenye orodha ya wachezaji wa...         2           1   \n",
       "3      Sote twesangaa twelipomuona mwalimu Ali apika         2           1   \n",
       "4                 Inajulikana kama shina la Warangi.         2           0   \n",
       "\n",
       "        age  gender accents variant locale  segment  \n",
       "0       NaN     NaN     NaN     NaN     sw      NaN  \n",
       "1  twenties  female     NaN     NaN     sw      NaN  \n",
       "2       NaN     NaN     NaN     NaN     sw      NaN  \n",
       "3  twenties    male     NaN     NaN     sw      NaN  \n",
       "4       NaN     NaN     NaN     NaN     sw      NaN  "
      ]
     },
     "execution_count": 9,
     "metadata": {},
     "output_type": "execute_result"
    }
   ],
   "source": [
    "# reported_df\n",
    "test_df.head()"
   ]
  },
  {
   "cell_type": "code",
   "execution_count": null,
   "metadata": {},
   "outputs": [
    {
     "name": "stdout",
     "output_type": "stream",
     "text": [
      "(1828, 4)\n"
     ]
    }
   ],
   "source": [
    "print(reported_df.shape)"
   ]
  },
  {
   "cell_type": "markdown",
   "metadata": {},
   "source": []
  },
  {
   "cell_type": "code",
   "execution_count": null,
   "metadata": {},
   "outputs": [],
   "source": []
  },
  {
   "cell_type": "code",
   "execution_count": null,
   "metadata": {},
   "outputs": [],
   "source": []
  },
  {
   "cell_type": "markdown",
   "metadata": {},
   "source": [
    "## EDA and Cleaning"
   ]
  },
  {
   "cell_type": "code",
   "execution_count": null,
   "metadata": {},
   "outputs": [],
   "source": []
  },
  {
   "cell_type": "markdown",
   "metadata": {},
   "source": [
    "# END"
   ]
  }
 ],
 "metadata": {
  "kernelspec": {
   "display_name": "stt-env",
   "language": "python",
   "name": "python3"
  },
  "language_info": {
   "codemirror_mode": {
    "name": "ipython",
    "version": 3
   },
   "file_extension": ".py",
   "mimetype": "text/x-python",
   "name": "python",
   "nbconvert_exporter": "python",
   "pygments_lexer": "ipython3",
   "version": "3.9.16"
  },
  "orig_nbformat": 4
 },
 "nbformat": 4,
 "nbformat_minor": 2
}
