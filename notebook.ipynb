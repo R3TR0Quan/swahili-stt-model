{
 "cells": [
  {
   "cell_type": "markdown",
   "metadata": {},
   "source": [
    "# Africas Talking-Mozilla Common Voice Hackathon"
   ]
  },
  {
   "cell_type": "markdown",
   "metadata": {},
   "source": [
    "This is the main notebook used in model development. For experimentation use notebooks in the `misc_notebooks` folder"
   ]
  },
  {
   "cell_type": "markdown",
   "metadata": {},
   "source": [
    "## Data Loading"
   ]
  },
  {
   "cell_type": "code",
   "execution_count": 1,
   "metadata": {},
   "outputs": [],
   "source": [
    "# importations\n",
    "import pandas as pd\n",
    "import numpy as np\n"
   ]
  },
  {
   "cell_type": "code",
   "execution_count": 14,
   "metadata": {},
   "outputs": [],
   "source": [
    "# read `tsv` files\n",
    "test_df = pd.read_csv('cv-corpus-15.0-2023-09-08-sw/cv-corpus-15.0-2023-09-08/sw/test.tsv', delimiter='\\t')\n",
    "train_df = pd.read_csv('cv-corpus-15.0-2023-09-08-sw/cv-corpus-15.0-2023-09-08/sw/train.tsv', delimiter='\\t')\n",
    "reported_df = pd.read_csv('cv-corpus-15.0-2023-09-08-sw/cv-corpus-15.0-2023-09-08/sw/reported.tsv', engine='c', delimiter='\\t')\n",
    "# others_df = pd.read_csv('cv-corpus-15.0-2023-09-08-sw/cv-corpus-15.0-2023-09-08/sw/other.tsv', delimiter='\\t') # others causing EOF error in reading, possibly corrupt\n",
    "invalidated_df = pd.read_csv('cv-corpus-15.0-2023-09-08-sw/cv-corpus-15.0-2023-09-08/sw/invalidated.tsv', delimiter='\\t')\n",
    "dev_df = pd.read_csv('cv-corpus-15.0-2023-09-08-sw/cv-corpus-15.0-2023-09-08/sw/dev.tsv', delimiter='\\t')\n",
    "durations_df = pd.read_csv('cv-corpus-15.0-2023-09-08-sw/cv-corpus-15.0-2023-09-08/sw/clip_durations.tsv', delimiter='\\t')"
   ]
  },
  {
   "cell_type": "markdown",
   "metadata": {},
   "source": [
    "Let's inspect some of these DataFrames to get our bearing"
   ]
  },
  {
   "cell_type": "code",
   "execution_count": 15,
   "metadata": {},
   "outputs": [
    {
     "data": {
      "text/html": [
       "<div>\n",
       "<style scoped>\n",
       "    .dataframe tbody tr th:only-of-type {\n",
       "        vertical-align: middle;\n",
       "    }\n",
       "\n",
       "    .dataframe tbody tr th {\n",
       "        vertical-align: top;\n",
       "    }\n",
       "\n",
       "    .dataframe thead th {\n",
       "        text-align: right;\n",
       "    }\n",
       "</style>\n",
       "<table border=\"1\" class=\"dataframe\">\n",
       "  <thead>\n",
       "    <tr style=\"text-align: right;\">\n",
       "      <th></th>\n",
       "      <th>client_id</th>\n",
       "      <th>path</th>\n",
       "      <th>sentence</th>\n",
       "      <th>up_votes</th>\n",
       "      <th>down_votes</th>\n",
       "      <th>age</th>\n",
       "      <th>gender</th>\n",
       "      <th>accents</th>\n",
       "      <th>variant</th>\n",
       "      <th>locale</th>\n",
       "      <th>segment</th>\n",
       "    </tr>\n",
       "  </thead>\n",
       "  <tbody>\n",
       "    <tr>\n",
       "      <th>0</th>\n",
       "      <td>70c2b9896ca6150002ef6e888a3f7788e49e61aef85ec8...</td>\n",
       "      <td>common_voice_sw_37083656.mp3</td>\n",
       "      <td>yeyote yule atakaepatikana akiandamana katika ...</td>\n",
       "      <td>2</td>\n",
       "      <td>0</td>\n",
       "      <td>twenties</td>\n",
       "      <td>female</td>\n",
       "      <td>NaN</td>\n",
       "      <td>NaN</td>\n",
       "      <td>sw</td>\n",
       "      <td>NaN</td>\n",
       "    </tr>\n",
       "    <tr>\n",
       "      <th>1</th>\n",
       "      <td>70c2b9896ca6150002ef6e888a3f7788e49e61aef85ec8...</td>\n",
       "      <td>common_voice_sw_37085166.mp3</td>\n",
       "      <td>kwa ujumla kwenye kwenye sehemu za wilaya ama ...</td>\n",
       "      <td>3</td>\n",
       "      <td>1</td>\n",
       "      <td>twenties</td>\n",
       "      <td>female</td>\n",
       "      <td>NaN</td>\n",
       "      <td>NaN</td>\n",
       "      <td>sw</td>\n",
       "      <td>NaN</td>\n",
       "    </tr>\n",
       "    <tr>\n",
       "      <th>2</th>\n",
       "      <td>70c2b9896ca6150002ef6e888a3f7788e49e61aef85ec8...</td>\n",
       "      <td>common_voice_sw_37085182.mp3</td>\n",
       "      <td>Hawai ni kuzuri</td>\n",
       "      <td>2</td>\n",
       "      <td>0</td>\n",
       "      <td>twenties</td>\n",
       "      <td>female</td>\n",
       "      <td>NaN</td>\n",
       "      <td>NaN</td>\n",
       "      <td>sw</td>\n",
       "      <td>NaN</td>\n",
       "    </tr>\n",
       "    <tr>\n",
       "      <th>3</th>\n",
       "      <td>70c2b9896ca6150002ef6e888a3f7788e49e61aef85ec8...</td>\n",
       "      <td>common_voice_sw_37085525.mp3</td>\n",
       "      <td>na kuhatarisha mifumo mizima ya uhai katika se...</td>\n",
       "      <td>13</td>\n",
       "      <td>3</td>\n",
       "      <td>twenties</td>\n",
       "      <td>female</td>\n",
       "      <td>NaN</td>\n",
       "      <td>NaN</td>\n",
       "      <td>sw</td>\n",
       "      <td>NaN</td>\n",
       "    </tr>\n",
       "    <tr>\n",
       "      <th>4</th>\n",
       "      <td>70c2b9896ca6150002ef6e888a3f7788e49e61aef85ec8...</td>\n",
       "      <td>common_voice_sw_37085535.mp3</td>\n",
       "      <td>kundi zima lililosababisha mauaji lilitakiwa k...</td>\n",
       "      <td>2</td>\n",
       "      <td>1</td>\n",
       "      <td>twenties</td>\n",
       "      <td>female</td>\n",
       "      <td>NaN</td>\n",
       "      <td>NaN</td>\n",
       "      <td>sw</td>\n",
       "      <td>NaN</td>\n",
       "    </tr>\n",
       "  </tbody>\n",
       "</table>\n",
       "</div>"
      ],
      "text/plain": [
       "                                           client_id  \\\n",
       "0  70c2b9896ca6150002ef6e888a3f7788e49e61aef85ec8...   \n",
       "1  70c2b9896ca6150002ef6e888a3f7788e49e61aef85ec8...   \n",
       "2  70c2b9896ca6150002ef6e888a3f7788e49e61aef85ec8...   \n",
       "3  70c2b9896ca6150002ef6e888a3f7788e49e61aef85ec8...   \n",
       "4  70c2b9896ca6150002ef6e888a3f7788e49e61aef85ec8...   \n",
       "\n",
       "                           path  \\\n",
       "0  common_voice_sw_37083656.mp3   \n",
       "1  common_voice_sw_37085166.mp3   \n",
       "2  common_voice_sw_37085182.mp3   \n",
       "3  common_voice_sw_37085525.mp3   \n",
       "4  common_voice_sw_37085535.mp3   \n",
       "\n",
       "                                            sentence  up_votes  down_votes  \\\n",
       "0  yeyote yule atakaepatikana akiandamana katika ...         2           0   \n",
       "1  kwa ujumla kwenye kwenye sehemu za wilaya ama ...         3           1   \n",
       "2                                    Hawai ni kuzuri         2           0   \n",
       "3  na kuhatarisha mifumo mizima ya uhai katika se...        13           3   \n",
       "4  kundi zima lililosababisha mauaji lilitakiwa k...         2           1   \n",
       "\n",
       "        age  gender accents variant locale  segment  \n",
       "0  twenties  female     NaN     NaN     sw      NaN  \n",
       "1  twenties  female     NaN     NaN     sw      NaN  \n",
       "2  twenties  female     NaN     NaN     sw      NaN  \n",
       "3  twenties  female     NaN     NaN     sw      NaN  \n",
       "4  twenties  female     NaN     NaN     sw      NaN  "
      ]
     },
     "execution_count": 15,
     "metadata": {},
     "output_type": "execute_result"
    }
   ],
   "source": [
    "#train_df\n",
    "train_df.head()"
   ]
  },
  {
   "cell_type": "code",
   "execution_count": 20,
   "metadata": {},
   "outputs": [
    {
     "data": {
      "text/html": [
       "<div>\n",
       "<style scoped>\n",
       "    .dataframe tbody tr th:only-of-type {\n",
       "        vertical-align: middle;\n",
       "    }\n",
       "\n",
       "    .dataframe tbody tr th {\n",
       "        vertical-align: top;\n",
       "    }\n",
       "\n",
       "    .dataframe thead th {\n",
       "        text-align: right;\n",
       "    }\n",
       "</style>\n",
       "<table border=\"1\" class=\"dataframe\">\n",
       "  <thead>\n",
       "    <tr style=\"text-align: right;\">\n",
       "      <th></th>\n",
       "      <th>sentence</th>\n",
       "      <th>sentence_id</th>\n",
       "      <th>locale</th>\n",
       "      <th>reason</th>\n",
       "    </tr>\n",
       "  </thead>\n",
       "  <tbody>\n",
       "    <tr>\n",
       "      <th>0</th>\n",
       "      <td>Kuja hapa na ukae chini</td>\n",
       "      <td>eb71790730ea26af4b2a9591cf87266bab31b886afba55...</td>\n",
       "      <td>sw</td>\n",
       "      <td>grammar-or-spelling</td>\n",
       "    </tr>\n",
       "    <tr>\n",
       "      <th>1</th>\n",
       "      <td>Tangu kale anaheshimiwa kama watakatifu.</td>\n",
       "      <td>800cda50ab06f993a6b073fef90a248da7fa1948277f18...</td>\n",
       "      <td>sw</td>\n",
       "      <td>grammar-or-spelling</td>\n",
       "    </tr>\n",
       "    <tr>\n",
       "      <th>2</th>\n",
       "      <td>Mara nyingi tunapewa neema ya mwanga, kwa mfanof.</td>\n",
       "      <td>6b12677c497ea724d1c3a9c13fd211b511ebfa353cbd34...</td>\n",
       "      <td>sw</td>\n",
       "      <td>grammar-or-spelling</td>\n",
       "    </tr>\n",
       "    <tr>\n",
       "      <th>3</th>\n",
       "      <td>Mwenye kujihusisha ma mipango mingi tu mjini p...</td>\n",
       "      <td>9326c42bfe17a40ca56ab55431c87395cce3f270c53636...</td>\n",
       "      <td>sw</td>\n",
       "      <td>grammar-or-spelling</td>\n",
       "    </tr>\n",
       "    <tr>\n",
       "      <th>4</th>\n",
       "      <td>Uwanja wa ndege wa kimataifa kiko nje ya mji.</td>\n",
       "      <td>6cfd54ae815f274fbe8fb40621cc66d41601ad95eef171...</td>\n",
       "      <td>sw</td>\n",
       "      <td>grammar-or-spelling</td>\n",
       "    </tr>\n",
       "  </tbody>\n",
       "</table>\n",
       "</div>"
      ],
      "text/plain": [
       "                                            sentence  \\\n",
       "0                            Kuja hapa na ukae chini   \n",
       "1           Tangu kale anaheshimiwa kama watakatifu.   \n",
       "2  Mara nyingi tunapewa neema ya mwanga, kwa mfanof.   \n",
       "3  Mwenye kujihusisha ma mipango mingi tu mjini p...   \n",
       "4      Uwanja wa ndege wa kimataifa kiko nje ya mji.   \n",
       "\n",
       "                                         sentence_id locale  \\\n",
       "0  eb71790730ea26af4b2a9591cf87266bab31b886afba55...     sw   \n",
       "1  800cda50ab06f993a6b073fef90a248da7fa1948277f18...     sw   \n",
       "2  6b12677c497ea724d1c3a9c13fd211b511ebfa353cbd34...     sw   \n",
       "3  9326c42bfe17a40ca56ab55431c87395cce3f270c53636...     sw   \n",
       "4  6cfd54ae815f274fbe8fb40621cc66d41601ad95eef171...     sw   \n",
       "\n",
       "                reason  \n",
       "0  grammar-or-spelling  \n",
       "1  grammar-or-spelling  \n",
       "2  grammar-or-spelling  \n",
       "3  grammar-or-spelling  \n",
       "4  grammar-or-spelling  "
      ]
     },
     "execution_count": 20,
     "metadata": {},
     "output_type": "execute_result"
    }
   ],
   "source": [
    "# reported_df\n",
    "reported_df.head()"
   ]
  },
  {
   "cell_type": "code",
   "execution_count": 21,
   "metadata": {},
   "outputs": [
    {
     "name": "stdout",
     "output_type": "stream",
     "text": [
      "(1828, 4)\n"
     ]
    }
   ],
   "source": [
    "print(reported_df.shape)"
   ]
  },
  {
   "cell_type": "markdown",
   "metadata": {},
   "source": []
  },
  {
   "cell_type": "code",
   "execution_count": null,
   "metadata": {},
   "outputs": [],
   "source": []
  },
  {
   "cell_type": "code",
   "execution_count": null,
   "metadata": {},
   "outputs": [],
   "source": []
  },
  {
   "cell_type": "markdown",
   "metadata": {},
   "source": [
    "## EDA and Cleaning"
   ]
  },
  {
   "cell_type": "code",
   "execution_count": null,
   "metadata": {},
   "outputs": [],
   "source": []
  },
  {
   "cell_type": "markdown",
   "metadata": {},
   "source": [
    "# END"
   ]
  }
 ],
 "metadata": {
  "kernelspec": {
   "display_name": "stt-env",
   "language": "python",
   "name": "python3"
  },
  "language_info": {
   "codemirror_mode": {
    "name": "ipython",
    "version": 3
   },
   "file_extension": ".py",
   "mimetype": "text/x-python",
   "name": "python",
   "nbconvert_exporter": "python",
   "pygments_lexer": "ipython3",
   "version": "3.9.16"
  },
  "orig_nbformat": 4
 },
 "nbformat": 4,
 "nbformat_minor": 2
}
