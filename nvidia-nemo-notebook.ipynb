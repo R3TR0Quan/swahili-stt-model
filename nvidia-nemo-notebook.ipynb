{
 "cells": [
  {
   "cell_type": "markdown",
   "metadata": {},
   "source": [
    "# Africas Talking-Mozilla Common Voice Hackathon"
   ]
  },
  {
   "cell_type": "markdown",
   "metadata": {},
   "source": [
    "This is the main notebook used in model development. For experimentation use notebooks in the `misc_notebooks` folder"
   ]
  },
  {
   "cell_type": "markdown",
   "metadata": {},
   "source": [
    "## 1. Problem Statement"
   ]
  },
  {
   "cell_type": "markdown",
   "metadata": {},
   "source": [
    "This project is originally a submission to the Africa's Talking x Mozilla Common Voice Hackathon, from October 13th through November"
   ]
  },
  {
   "cell_type": "markdown",
   "metadata": {},
   "source": [
    "### 1.1 Objectives\n",
    ">> The main objective is to build a deep learning model that is capable of inferring `text` having been conditioned on `voice` sequences.\n",
    "\n",
    "The model is expected to achieve best performance on the selected evaluation metrics:\n",
    "* Character Error Rate\n",
    "* Word Error Rate\n",
    "* Phone Error Rate\n",
    "* Loss"
   ]
  },
  {
   "cell_type": "markdown",
   "metadata": {},
   "source": [
    "## 2. Data Loading"
   ]
  },
  {
   "cell_type": "markdown",
   "metadata": {},
   "source": [
    "The data used is sourced from Mozilla's site [here](https://commonvoice.mozilla.org/en/datasets)"
   ]
  },
  {
   "cell_type": "markdown",
   "metadata": {},
   "source": [
    "### 2.1 Formatting"
   ]
  },
  {
   "cell_type": "markdown",
   "metadata": {},
   "source": [
    "The data tables are in `tsv` format. We need to convert to `json` before working with Nemo"
   ]
  },
  {
   "cell_type": "code",
   "execution_count": 2,
   "metadata": {},
   "outputs": [],
   "source": [
    "import pandas as pd\n",
    "import numpy as numpy\n",
    "\n"
   ]
  },
  {
   "cell_type": "code",
   "execution_count": 5,
   "metadata": {},
   "outputs": [
    {
     "name": "stdout",
     "output_type": "stream",
     "text": [
      "100%|██████████████████████████████████| 44070/44070 [00:02<00:00, 21862.34it/s]\n"
     ]
    }
   ],
   "source": [
    "#convert train.tsv to json manifests\n",
    "!python scripts/tsv_to_json.py \\\n",
    "  --tsv=sw/train.tsv \\\n",
    "  --folder=sw/clips \\\n",
    "  --sampling_count=-1"
   ]
  },
  {
   "cell_type": "code",
   "execution_count": 6,
   "metadata": {},
   "outputs": [
    {
     "name": "stdout",
     "output_type": "stream",
     "text": [
      "100%|██████████████████████████████████| 11938/11938 [00:00<00:00, 25182.17it/s]\n"
     ]
    }
   ],
   "source": [
    "#convert dev.tsv to json manifests\n",
    "!python scripts/tsv_to_json.py \\\n",
    "  --tsv=sw/dev.tsv \\\n",
    "  --folder=sw/clips \\\n",
    "  --sampling_count=-1"
   ]
  },
  {
   "cell_type": "code",
   "execution_count": 7,
   "metadata": {},
   "outputs": [
    {
     "name": "stdout",
     "output_type": "stream",
     "text": [
      "100%|██████████████████████████████████| 12021/12021 [00:00<00:00, 22928.15it/s]\n"
     ]
    }
   ],
   "source": [
    "#convert test.tsv to json manifests\n",
    "!python scripts/tsv_to_json.py \\\n",
    "  --tsv=sw/test.tsv \\\n",
    "  --folder=sw/clips \\\n",
    "  --sampling_count=-1"
   ]
  },
  {
   "cell_type": "markdown",
   "metadata": {},
   "source": [
    "### 2.2 Resampling .mp3 to .wav"
   ]
  },
  {
   "cell_type": "markdown",
   "metadata": {},
   "source": [
    "Nemo isnt compatible with **mp3** files. We run a script to resample them as **wav** files"
   ]
  },
  {
   "cell_type": "code",
   "execution_count": 18,
   "metadata": {},
   "outputs": [
    {
     "name": "stdout",
     "output_type": "stream",
     "text": [
      "mkdir: cannot create directory ‘sw/train’: File exists\n",
      "44070it [00:00, 171419.30it/s]\n",
      " 16%|█████▉                               | 7101/44070 [01:07<03:23, 181.97it/s]^C\n",
      " 16%|██████                               | 7200/44070 [01:10<06:02, 101.81it/s]\n"
     ]
    }
   ],
   "source": [
    "# resample train\n",
    "!mkdir sw/train\n",
    "!python scripts/decode_resample.py \\\n",
    "    --manifest=sw/train.json \\\n",
    "    --destination_folder=sw/train"
   ]
  },
  {
   "cell_type": "code",
   "execution_count": 19,
   "metadata": {},
   "outputs": [
    {
     "name": "stdout",
     "output_type": "stream",
     "text": [
      "11938it [00:00, 125345.71it/s]\n",
      "  0%|                                                 | 0/11938 [00:00<?, ?it/s]^C\n",
      "  0%|                                                 | 0/11938 [00:12<?, ?it/s]\n"
     ]
    }
   ],
   "source": [
    "# resample dev\n",
    "!mkdir sw/dev\n",
    "!python scripts/decode_resample.py \\\n",
    "    --manifest=sw/dev.json \\\n",
    "    --destination_folder=sw/dev"
   ]
  },
  {
   "cell_type": "code",
   "execution_count": null,
   "metadata": {},
   "outputs": [],
   "source": [
    "# resample train\n",
    "!mkdir sw/train\n",
    "!python scripts/decode_resample.py \\\n",
    "    --manifest=sw/dev.json \\\n",
    "    --destination_folder=sw/test"
   ]
  },
  {
   "cell_type": "markdown",
   "metadata": {},
   "source": [
    "## 3. EDA"
   ]
  },
  {
   "cell_type": "markdown",
   "metadata": {},
   "source": [
    "Let's inspect some of these DataFrames to get our bearing"
   ]
  },
  {
   "cell_type": "code",
   "execution_count": null,
   "metadata": {},
   "outputs": [],
   "source": []
  },
  {
   "cell_type": "markdown",
   "metadata": {},
   "source": [
    "## 4. Preprocessing"
   ]
  },
  {
   "cell_type": "code",
   "execution_count": null,
   "metadata": {},
   "outputs": [],
   "source": []
  },
  {
   "cell_type": "markdown",
   "metadata": {},
   "source": [
    "## 5. Modelling"
   ]
  },
  {
   "cell_type": "code",
   "execution_count": null,
   "metadata": {},
   "outputs": [],
   "source": []
  },
  {
   "cell_type": "markdown",
   "metadata": {},
   "source": [
    "### Try Transfer Learning"
   ]
  },
  {
   "cell_type": "code",
   "execution_count": null,
   "metadata": {},
   "outputs": [],
   "source": [
    "# import pretrained model\n"
   ]
  },
  {
   "cell_type": "code",
   "execution_count": null,
   "metadata": {},
   "outputs": [],
   "source": []
  },
  {
   "cell_type": "markdown",
   "metadata": {},
   "source": [
    "# END"
   ]
  }
 ],
 "metadata": {
  "kernelspec": {
   "display_name": "mcv-stt-env",
   "language": "python",
   "name": "python3"
  },
  "language_info": {
   "codemirror_mode": {
    "name": "ipython",
    "version": 3
   },
   "file_extension": ".py",
   "mimetype": "text/x-python",
   "name": "python",
   "nbconvert_exporter": "python",
   "pygments_lexer": "ipython3",
   "version": "3.7.17"
  }
 },
 "nbformat": 4,
 "nbformat_minor": 2
}
